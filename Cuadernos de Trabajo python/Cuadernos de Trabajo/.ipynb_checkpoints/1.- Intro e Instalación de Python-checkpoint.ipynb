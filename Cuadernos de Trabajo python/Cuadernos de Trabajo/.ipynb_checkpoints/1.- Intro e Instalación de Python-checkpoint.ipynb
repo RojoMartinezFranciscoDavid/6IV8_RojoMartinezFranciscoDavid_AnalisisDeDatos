{
 "cells": [
  {
   "cell_type": "markdown",
   "id": "4fc87110-595b-4ec7-b9b7-6f9be286e21d",
   "metadata": {},
   "source": [
    "# 1.- Intro e Instalación de Python"
   ]
  },
  {
   "cell_type": "code",
   "execution_count": 6,
   "id": "383a570a-9276-475c-a22e-075ccbe1e353",
   "metadata": {},
   "outputs": [
    {
     "data": {
      "text/plain": [
       "'hola'"
      ]
     },
     "execution_count": 6,
     "metadata": {},
     "output_type": "execute_result"
    }
   ],
   "source": [
    "('hola')"
   ]
  },
  {
   "cell_type": "code",
   "execution_count": 8,
   "id": "894c6d59-a77e-46d3-9f69-f8f06699c7f4",
   "metadata": {},
   "outputs": [
    {
     "data": {
      "text/plain": [
       "'por fin se instaló Anaconda y todoooo yujuuu'"
      ]
     },
     "execution_count": 8,
     "metadata": {},
     "output_type": "execute_result"
    }
   ],
   "source": [
    "('por fin se instaló Anaconda y todoooo yujuuu')"
   ]
  },
  {
   "cell_type": "code",
   "execution_count": null,
   "id": "401a88ac-32ae-4c6d-8b17-89c3a5607529",
   "metadata": {},
   "outputs": [],
   "source": []
  }
 ],
 "metadata": {
  "kernelspec": {
   "display_name": "Python [conda env:base] *",
   "language": "python",
   "name": "conda-base-py"
  },
  "language_info": {
   "codemirror_mode": {
    "name": "ipython",
    "version": 3
   },
   "file_extension": ".py",
   "mimetype": "text/x-python",
   "name": "python",
   "nbconvert_exporter": "python",
   "pygments_lexer": "ipython3",
   "version": "3.12.7"
  }
 },
 "nbformat": 4,
 "nbformat_minor": 5
}
